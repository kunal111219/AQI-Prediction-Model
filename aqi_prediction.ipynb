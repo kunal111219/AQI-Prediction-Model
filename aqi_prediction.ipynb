{
 "cells": [
  {
   "cell_type": "code",
   "execution_count": null,
   "metadata": {
    "id": "plyVBmGRHNE3"
   },
   "outputs": [],
   "source": []
  },
  {
   "cell_type": "code",
   "execution_count": 1,
   "metadata": {
    "colab": {
     "base_uri": "https://localhost:8080/",
     "height": 206
    },
    "id": "zX5jQ2_yHR9o",
    "outputId": "968fa84d-d368-4b89-bf6f-52bc675e0415"
   },
   "outputs": [
    {
     "data": {
      "text/html": [
       "<div>\n",
       "<style scoped>\n",
       "    .dataframe tbody tr th:only-of-type {\n",
       "        vertical-align: middle;\n",
       "    }\n",
       "\n",
       "    .dataframe tbody tr th {\n",
       "        vertical-align: top;\n",
       "    }\n",
       "\n",
       "    .dataframe thead th {\n",
       "        text-align: right;\n",
       "    }\n",
       "</style>\n",
       "<table border=\"1\" class=\"dataframe\">\n",
       "  <thead>\n",
       "    <tr style=\"text-align: right;\">\n",
       "      <th></th>\n",
       "      <th>AQI Value</th>\n",
       "      <th>CO AQI Value</th>\n",
       "      <th>Ozone AQI Value</th>\n",
       "      <th>NO2 AQI Value</th>\n",
       "      <th>PM2.5 AQI Value</th>\n",
       "      <th>lat</th>\n",
       "      <th>lng</th>\n",
       "    </tr>\n",
       "  </thead>\n",
       "  <tbody>\n",
       "    <tr>\n",
       "      <th>0</th>\n",
       "      <td>51</td>\n",
       "      <td>1</td>\n",
       "      <td>36</td>\n",
       "      <td>0</td>\n",
       "      <td>51</td>\n",
       "      <td>44.7444</td>\n",
       "      <td>44.2031</td>\n",
       "    </tr>\n",
       "    <tr>\n",
       "      <th>1</th>\n",
       "      <td>41</td>\n",
       "      <td>1</td>\n",
       "      <td>5</td>\n",
       "      <td>1</td>\n",
       "      <td>41</td>\n",
       "      <td>-5.2900</td>\n",
       "      <td>-44.4900</td>\n",
       "    </tr>\n",
       "    <tr>\n",
       "      <th>2</th>\n",
       "      <td>41</td>\n",
       "      <td>1</td>\n",
       "      <td>5</td>\n",
       "      <td>1</td>\n",
       "      <td>41</td>\n",
       "      <td>-11.2958</td>\n",
       "      <td>-41.9869</td>\n",
       "    </tr>\n",
       "    <tr>\n",
       "      <th>3</th>\n",
       "      <td>66</td>\n",
       "      <td>1</td>\n",
       "      <td>39</td>\n",
       "      <td>2</td>\n",
       "      <td>66</td>\n",
       "      <td>37.1667</td>\n",
       "      <td>15.1833</td>\n",
       "    </tr>\n",
       "    <tr>\n",
       "      <th>4</th>\n",
       "      <td>34</td>\n",
       "      <td>1</td>\n",
       "      <td>34</td>\n",
       "      <td>0</td>\n",
       "      <td>20</td>\n",
       "      <td>53.0167</td>\n",
       "      <td>20.8833</td>\n",
       "    </tr>\n",
       "  </tbody>\n",
       "</table>\n",
       "</div>"
      ],
      "text/plain": [
       "   AQI Value  CO AQI Value  Ozone AQI Value  NO2 AQI Value  PM2.5 AQI Value  \\\n",
       "0         51             1               36              0               51   \n",
       "1         41             1                5              1               41   \n",
       "2         41             1                5              1               41   \n",
       "3         66             1               39              2               66   \n",
       "4         34             1               34              0               20   \n",
       "\n",
       "       lat      lng  \n",
       "0  44.7444  44.2031  \n",
       "1  -5.2900 -44.4900  \n",
       "2 -11.2958 -41.9869  \n",
       "3  37.1667  15.1833  \n",
       "4  53.0167  20.8833  "
      ]
     },
     "execution_count": 1,
     "metadata": {},
     "output_type": "execute_result"
    }
   ],
   "source": [
    "# importing pandas module for data frame\n",
    "import pandas as pd\n",
    "\n",
    "# loading dataset and storing in train variable\n",
    "train= pd.read_csv(\"AQI and Lat Long of Countries.csv\")\n",
    "# display top 5 data\n",
    "train.head()"
   ]
  },
  {
   "cell_type": "code",
   "execution_count": 2,
   "metadata": {
    "colab": {
     "base_uri": "https://localhost:8080/",
     "height": 752
    },
    "id": "cArWvdZ3HzPQ",
    "outputId": "fee9c35a-ecd2-4ab1-c9e5-1288748aecc3"
   },
   "outputs": [
    {
     "name": "stdout",
     "output_type": "stream",
     "text": [
      "       CO AQI Value  Ozone AQI Value  NO2 AQI Value  PM2.5 AQI Value      lat  \\\n",
      "0                 1               36              0               51  44.7444   \n",
      "1                 1                5              1               41  -5.2900   \n",
      "2                 1                5              1               41 -11.2958   \n",
      "3                 1               39              2               66  37.1667   \n",
      "4                 1               34              0               20  53.0167   \n",
      "...             ...              ...            ...              ...      ...   \n",
      "16690             1               34              5               54  37.5516   \n",
      "16691             1               39              1               71  49.0650   \n",
      "16692             1               39              1               71  36.3385   \n",
      "16693             1               20              5               50  48.7786   \n",
      "16694             1               44              2               71  40.1241   \n",
      "\n",
      "           lng  \n",
      "0      44.2031  \n",
      "1     -44.4900  \n",
      "2     -41.9869  \n",
      "3      15.1833  \n",
      "4      20.8833  \n",
      "...        ...  \n",
      "16690 -77.3285  \n",
      "16691  18.9219  \n",
      "16692 -88.8513  \n",
      "16693   2.2906  \n",
      "16694 -82.9210  \n",
      "\n",
      "[16695 rows x 6 columns]\n",
      "0        51\n",
      "1        41\n",
      "2        41\n",
      "3        66\n",
      "4        34\n",
      "         ..\n",
      "16690    54\n",
      "16691    71\n",
      "16692    71\n",
      "16693    50\n",
      "16694    71\n",
      "Name: AQI Value, Length: 16695, dtype: int64\n"
     ]
    },
    {
     "data": {
      "text/plain": [
       "RandomForestRegressor()"
      ]
     },
     "execution_count": 2,
     "metadata": {},
     "output_type": "execute_result"
    }
   ],
   "source": [
    "from sklearn.ensemble import RandomForestRegressor, AdaBoostRegressor\n",
    "\n",
    "#CREATING MODEL\n",
    "m1= RandomForestRegressor()\n",
    "\n",
    "\n",
    "train1= train.drop(['AQI Value'], axis=1)\n",
    "\n",
    "target= train['AQI Value']\n",
    "\n",
    "print(train1)\n",
    "print(target)\n",
    "#FITTING THE MODEL\n",
    "m1.fit(train1, target)\n"
   ]
  },
  {
   "cell_type": "code",
   "execution_count": 3,
   "metadata": {
    "colab": {
     "base_uri": "https://localhost:8080/"
    },
    "id": "65FeBF0vIVA8",
    "outputId": "1e22600d-f54a-4aeb-9ed4-bba105e4fe2c"
   },
   "outputs": [
    {
     "name": "stdout",
     "output_type": "stream",
     "text": [
      "[9.89]\n"
     ]
    },
    {
     "name": "stderr",
     "output_type": "stream",
     "text": [
      "C:\\Users\\KUNAML.000\\anaconda3\\lib\\site-packages\\sklearn\\base.py:450: UserWarning: X does not have valid feature names, but RandomForestRegressor was fitted with feature names\n",
      "  warnings.warn(\n"
     ]
    }
   ],
   "source": [
    "m1.score(train1, target)*100\n",
    "\n",
    "# predicting the model with other values (testing the data)\n",
    "prediction_result= m1.predict([[1, 10, 5, 11, 10, 5]])\n",
    "\n",
    "print(prediction_result)"
   ]
  },
  {
   "cell_type": "code",
   "execution_count": 4,
   "metadata": {
    "colab": {
     "base_uri": "https://localhost:8080/"
    },
    "id": "i0lUlxV-Hq8q",
    "outputId": "23335aca-76ca-4878-f85e-b2c0c0a85aa7"
   },
   "outputs": [
    {
     "name": "stderr",
     "output_type": "stream",
     "text": [
      "C:\\Users\\KUNAML.000\\anaconda3\\lib\\site-packages\\sklearn\\base.py:450: UserWarning: X does not have valid feature names, but AdaBoostRegressor was fitted with feature names\n",
      "  warnings.warn(\n"
     ]
    },
    {
     "data": {
      "text/plain": [
       "array([49.67240716])"
      ]
     },
     "execution_count": 4,
     "metadata": {},
     "output_type": "execute_result"
    }
   ],
   "source": [
    "# Adaboost model\n",
    "# importing module\n",
    "\n",
    "from sklearn.ensemble import AdaBoostRegressor\n",
    "\n",
    "\n",
    "# defining model\n",
    "m2 = AdaBoostRegressor()\n",
    "\n",
    "# Fitting the model\n",
    "m2.fit(train1, target)\n",
    "\n",
    "'''AdaBoostRegressor(base_estimator=None, learning_rate=1.0, loss='linear',\n",
    "                  n_estimators=50, random_state=None)'''\n",
    "\n",
    "m2.score(train1, target)*100\n",
    "\n",
    "# predicting the model with other values (testing the data)\n",
    "# so AQI is 49.67240716\n",
    "m2.predict([[1, 45, 67, 34, 5, 23]])"
   ]
  },
  {
   "cell_type": "code",
   "execution_count": 7,
   "metadata": {
    "id": "cHINvayOXQHZ"
   },
   "outputs": [
    {
     "name": "stdout",
     "output_type": "stream",
     "text": [
      "RandomForestRegressor accuracy: 99.9745506378791\n",
      "AdaBoostRegressor accuracy: 93.00690185649916\n",
      "RandomForestRegressor prediction: [9.89]\n",
      "AdaBoostRegressor prediction: [49.67240716]\n"
     ]
    },
    {
     "name": "stderr",
     "output_type": "stream",
     "text": [
      "C:\\Users\\KUNAML.000\\anaconda3\\lib\\site-packages\\sklearn\\base.py:450: UserWarning: X does not have valid feature names, but RandomForestRegressor was fitted with feature names\n",
      "  warnings.warn(\n",
      "C:\\Users\\KUNAML.000\\anaconda3\\lib\\site-packages\\sklearn\\base.py:450: UserWarning: X does not have valid feature names, but AdaBoostRegressor was fitted with feature names\n",
      "  warnings.warn(\n"
     ]
    }
   ],
   "source": [
    "print(\"RandomForestRegressor accuracy:\", m1.score(train1, target) * 100)\n",
    "print(\"AdaBoostRegressor accuracy:\", m2.score(train1, target) * 100)\n",
    "prediction_result = m1.predict([[1, 10, 5, 11, 10, 5]])\n",
    "print(\"RandomForestRegressor prediction:\", prediction_result)\n",
    "prediction_result_ada = m2.predict([[1, 45, 67, 34, 5, 23]])\n",
    "print(\"AdaBoostRegressor prediction:\", prediction_result_ada)\n"
   ]
  },
  {
   "cell_type": "code",
   "execution_count": null,
   "metadata": {},
   "outputs": [],
   "source": []
  }
 ],
 "metadata": {
  "colab": {
   "provenance": []
  },
  "kernelspec": {
   "display_name": "Python 3 (ipykernel)",
   "language": "python",
   "name": "python3"
  },
  "language_info": {
   "codemirror_mode": {
    "name": "ipython",
    "version": 3
   },
   "file_extension": ".py",
   "mimetype": "text/x-python",
   "name": "python",
   "nbconvert_exporter": "python",
   "pygments_lexer": "ipython3",
   "version": "3.9.13"
  }
 },
 "nbformat": 4,
 "nbformat_minor": 1
}
